{
 "cells": [
  {
   "cell_type": "code",
   "execution_count": 14,
   "metadata": {},
   "outputs": [],
   "source": [
    "#setting strategies\n",
    "strategies=['Rock','Paper','Scissors','Lizard','Spock']"
   ]
  },
  {
   "cell_type": "code",
   "execution_count": 15,
   "metadata": {},
   "outputs": [],
   "source": [
    "#setting payoff for all combinations based on the game rule \n",
    "payoff={('Rock','Paper'):(0,1),\n",
    "        ('Paper','Rock'):(1,0),\n",
    "        ('Rock','Scissors'):(1,0),\n",
    "        ('Scissors','Rock'):(0,1),\n",
    "        ('Rock','Lizard'):(1,0),\n",
    "        ('Lizard','Rock'):(0,1),\n",
    "        ('Rock','Spock'):(0,1),\n",
    "        ('Spock','Rock'):(1,0),\n",
    "        ('Paper','Scissors'):(0,1),\n",
    "        ('Scissors','Paper'):(1,0),\n",
    "        ('Paper','Lizard'):(0,1),\n",
    "        ('Lizard','Paper'):(1,0),\n",
    "        ('Paper','Spock'):(1,0),\n",
    "        ('Spock','Paper'):(0,1),\n",
    "        ('Scissors','Lizard'):(1,0),\n",
    "        ('Lizard','Scissors'):(0,1),\n",
    "        ('Scissors','Spock'):(0,1),\n",
    "        ('Spock','Scissors'):(1,0),\n",
    "        ('Lizard','Spock'):(1,0),\n",
    "        ('Spock','Lizard'):(0,1),\n",
    "        ('Rock','Rock'):(0,0),\n",
    "        ('Paper','Paper'):(0,0),\n",
    "        ('Scissors','Scissors'):(0,0),\n",
    "       ('Lizard','Lizard'):(0,0),\n",
    "       ('Spock','Spock'):(0,0)}"
   ]
  },
  {
   "cell_type": "code",
   "execution_count": 16,
   "metadata": {},
   "outputs": [],
   "source": [
    "#creating and setting up players\n",
    "Players=[{'name':'John','score':0,'strategy':None},\n",
    "         {'name':'Mary','score':0,'strategy':None}]"
   ]
  },
  {
   "cell_type": "code",
   "execution_count": 25,
   "metadata": {},
   "outputs": [
    {
     "data": {
      "text/plain": [
       "'Scissors'"
      ]
     },
     "execution_count": 25,
     "metadata": {},
     "output_type": "execute_result"
    }
   ],
   "source": [
    "from random import choice\n",
    "\n",
    "#simples: choose randomly\n",
    "choice(strategies)"
   ]
  },
  {
   "cell_type": "code",
   "execution_count": 26,
   "metadata": {},
   "outputs": [],
   "source": [
    "#Players makes a choice\n",
    "Players[0]['strategy']=choice(strategies)\n",
    "Players[1]['strategy']=choice(strategies)"
   ]
  },
  {
   "cell_type": "code",
   "execution_count": 27,
   "metadata": {},
   "outputs": [
    {
     "data": {
      "text/plain": [
       "('Lizard', 'Rock')"
      ]
     },
     "execution_count": 27,
     "metadata": {},
     "output_type": "execute_result"
    }
   ],
   "source": [
    "#current decision\n",
    "Players[0]['strategy'],Players[1]['strategy']"
   ]
  },
  {
   "cell_type": "code",
   "execution_count": 28,
   "metadata": {},
   "outputs": [
    {
     "data": {
      "text/plain": [
       "(0, 1)"
      ]
     },
     "execution_count": 28,
     "metadata": {},
     "output_type": "execute_result"
    }
   ],
   "source": [
    "#social result of individual action\n",
    "result = payoff[Players[0]['strategy'],Players[1]['strategy']]\n",
    "result"
   ]
  },
  {
   "cell_type": "code",
   "execution_count": 29,
   "metadata": {},
   "outputs": [],
   "source": [
    "# update agents situation\n",
    "Players[0]['score']+=result[0]\n",
    "Players[1]['score']+=result[1]"
   ]
  },
  {
   "cell_type": "code",
   "execution_count": 30,
   "metadata": {},
   "outputs": [
    {
     "data": {
      "text/plain": [
       "({'name': 'John', 'score': 0, 'strategy': 'Lizard'},\n",
       " {'name': 'Mary', 'score': 2, 'strategy': 'Rock'})"
      ]
     },
     "execution_count": 30,
     "metadata": {},
     "output_type": "execute_result"
    }
   ],
   "source": [
    "# current agent situation\n",
    "Players[0], Players[1]"
   ]
  },
  {
   "cell_type": "code",
   "execution_count": 31,
   "metadata": {},
   "outputs": [
    {
     "data": {
      "text/html": [
       "<div>\n",
       "<style scoped>\n",
       "    .dataframe tbody tr th:only-of-type {\n",
       "        vertical-align: middle;\n",
       "    }\n",
       "\n",
       "    .dataframe tbody tr th {\n",
       "        vertical-align: top;\n",
       "    }\n",
       "\n",
       "    .dataframe thead th {\n",
       "        text-align: right;\n",
       "    }\n",
       "</style>\n",
       "<table border=\"1\" class=\"dataframe\">\n",
       "  <thead>\n",
       "    <tr style=\"text-align: right;\">\n",
       "      <th></th>\n",
       "      <th>name</th>\n",
       "      <th>score</th>\n",
       "      <th>strategy</th>\n",
       "    </tr>\n",
       "  </thead>\n",
       "  <tbody>\n",
       "    <tr>\n",
       "      <th>0</th>\n",
       "      <td>John</td>\n",
       "      <td>0</td>\n",
       "      <td>Lizard</td>\n",
       "    </tr>\n",
       "    <tr>\n",
       "      <th>1</th>\n",
       "      <td>Mary</td>\n",
       "      <td>2</td>\n",
       "      <td>Rock</td>\n",
       "    </tr>\n",
       "  </tbody>\n",
       "</table>\n",
       "</div>"
      ],
      "text/plain": [
       "   name  score strategy\n",
       "0  John      0   Lizard\n",
       "1  Mary      2     Rock"
      ]
     },
     "execution_count": 31,
     "metadata": {},
     "output_type": "execute_result"
    }
   ],
   "source": [
    "import pandas as pd \n",
    "\n",
    "socialResults=pd.DataFrame((Players[0], Players[1]))\n",
    "socialResults"
   ]
  },
  {
   "cell_type": "code",
   "execution_count": 32,
   "metadata": {},
   "outputs": [
    {
     "data": {
      "text/html": [
       "<div>\n",
       "<style scoped>\n",
       "    .dataframe tbody tr th:only-of-type {\n",
       "        vertical-align: middle;\n",
       "    }\n",
       "\n",
       "    .dataframe tbody tr th {\n",
       "        vertical-align: top;\n",
       "    }\n",
       "\n",
       "    .dataframe thead th {\n",
       "        text-align: right;\n",
       "    }\n",
       "</style>\n",
       "<table border=\"1\" class=\"dataframe\">\n",
       "  <thead>\n",
       "    <tr style=\"text-align: right;\">\n",
       "      <th></th>\n",
       "      <th>name</th>\n",
       "      <th>score</th>\n",
       "      <th>strategy</th>\n",
       "    </tr>\n",
       "  </thead>\n",
       "  <tbody>\n",
       "    <tr>\n",
       "      <th>1</th>\n",
       "      <td>Mary</td>\n",
       "      <td>2</td>\n",
       "      <td>Rock</td>\n",
       "    </tr>\n",
       "  </tbody>\n",
       "</table>\n",
       "</div>"
      ],
      "text/plain": [
       "   name  score strategy\n",
       "1  Mary      2     Rock"
      ]
     },
     "execution_count": 32,
     "metadata": {},
     "output_type": "execute_result"
    }
   ],
   "source": [
    "filter1=socialResults.score==socialResults.score.max()\n",
    "winner=socialResults[filter1]\n",
    "\n",
    "#social outcome\n",
    "winner"
   ]
  },
  {
   "cell_type": "code",
   "execution_count": 33,
   "metadata": {},
   "outputs": [],
   "source": [
    "#more number of players\n",
    "# names of players\n",
    "names=['Jim','Jane','Peter','Zoe','Paul','Brigitte','Alex','Chris','Tom']"
   ]
  },
  {
   "cell_type": "code",
   "execution_count": 35,
   "metadata": {},
   "outputs": [
    {
     "data": {
      "text/plain": [
       "[{'name': 'Jim', 'score': 0, 'strategy': None},\n",
       " {'name': 'Jane', 'score': 0, 'strategy': None},\n",
       " {'name': 'Peter', 'score': 0, 'strategy': None},\n",
       " {'name': 'Zoe', 'score': 0, 'strategy': None},\n",
       " {'name': 'Paul', 'score': 0, 'strategy': None},\n",
       " {'name': 'Brigitte', 'score': 0, 'strategy': None},\n",
       " {'name': 'Alex', 'score': 0, 'strategy': None},\n",
       " {'name': 'Chris', 'score': 0, 'strategy': None},\n",
       " {'name': 'Tom', 'score': 0, 'strategy': None}]"
      ]
     },
     "execution_count": 35,
     "metadata": {},
     "output_type": "execute_result"
    }
   ],
   "source": [
    "# list of players\n",
    "society=[{'name':n,'score':0,'strategy':None} for n in names]\n",
    "society"
   ]
  },
  {
   "cell_type": "code",
   "execution_count": 36,
   "metadata": {},
   "outputs": [
    {
     "name": "stdout",
     "output_type": "stream",
     "text": [
      "({'name': 'Jim', 'score': 0, 'strategy': None}, {'name': 'Jane', 'score': 0, 'strategy': None})\n",
      "({'name': 'Jim', 'score': 0, 'strategy': None}, {'name': 'Peter', 'score': 0, 'strategy': None})\n",
      "({'name': 'Jim', 'score': 0, 'strategy': None}, {'name': 'Zoe', 'score': 0, 'strategy': None})\n",
      "({'name': 'Jim', 'score': 0, 'strategy': None}, {'name': 'Paul', 'score': 0, 'strategy': None})\n",
      "({'name': 'Jim', 'score': 0, 'strategy': None}, {'name': 'Brigitte', 'score': 0, 'strategy': None})\n",
      "({'name': 'Jim', 'score': 0, 'strategy': None}, {'name': 'Alex', 'score': 0, 'strategy': None})\n",
      "({'name': 'Jim', 'score': 0, 'strategy': None}, {'name': 'Chris', 'score': 0, 'strategy': None})\n",
      "({'name': 'Jim', 'score': 0, 'strategy': None}, {'name': 'Tom', 'score': 0, 'strategy': None})\n",
      "({'name': 'Jane', 'score': 0, 'strategy': None}, {'name': 'Peter', 'score': 0, 'strategy': None})\n",
      "({'name': 'Jane', 'score': 0, 'strategy': None}, {'name': 'Zoe', 'score': 0, 'strategy': None})\n",
      "({'name': 'Jane', 'score': 0, 'strategy': None}, {'name': 'Paul', 'score': 0, 'strategy': None})\n",
      "({'name': 'Jane', 'score': 0, 'strategy': None}, {'name': 'Brigitte', 'score': 0, 'strategy': None})\n",
      "({'name': 'Jane', 'score': 0, 'strategy': None}, {'name': 'Alex', 'score': 0, 'strategy': None})\n",
      "({'name': 'Jane', 'score': 0, 'strategy': None}, {'name': 'Chris', 'score': 0, 'strategy': None})\n",
      "({'name': 'Jane', 'score': 0, 'strategy': None}, {'name': 'Tom', 'score': 0, 'strategy': None})\n",
      "({'name': 'Peter', 'score': 0, 'strategy': None}, {'name': 'Zoe', 'score': 0, 'strategy': None})\n",
      "({'name': 'Peter', 'score': 0, 'strategy': None}, {'name': 'Paul', 'score': 0, 'strategy': None})\n",
      "({'name': 'Peter', 'score': 0, 'strategy': None}, {'name': 'Brigitte', 'score': 0, 'strategy': None})\n",
      "({'name': 'Peter', 'score': 0, 'strategy': None}, {'name': 'Alex', 'score': 0, 'strategy': None})\n",
      "({'name': 'Peter', 'score': 0, 'strategy': None}, {'name': 'Chris', 'score': 0, 'strategy': None})\n",
      "({'name': 'Peter', 'score': 0, 'strategy': None}, {'name': 'Tom', 'score': 0, 'strategy': None})\n",
      "({'name': 'Zoe', 'score': 0, 'strategy': None}, {'name': 'Paul', 'score': 0, 'strategy': None})\n",
      "({'name': 'Zoe', 'score': 0, 'strategy': None}, {'name': 'Brigitte', 'score': 0, 'strategy': None})\n",
      "({'name': 'Zoe', 'score': 0, 'strategy': None}, {'name': 'Alex', 'score': 0, 'strategy': None})\n",
      "({'name': 'Zoe', 'score': 0, 'strategy': None}, {'name': 'Chris', 'score': 0, 'strategy': None})\n",
      "({'name': 'Zoe', 'score': 0, 'strategy': None}, {'name': 'Tom', 'score': 0, 'strategy': None})\n",
      "({'name': 'Paul', 'score': 0, 'strategy': None}, {'name': 'Brigitte', 'score': 0, 'strategy': None})\n",
      "({'name': 'Paul', 'score': 0, 'strategy': None}, {'name': 'Alex', 'score': 0, 'strategy': None})\n",
      "({'name': 'Paul', 'score': 0, 'strategy': None}, {'name': 'Chris', 'score': 0, 'strategy': None})\n",
      "({'name': 'Paul', 'score': 0, 'strategy': None}, {'name': 'Tom', 'score': 0, 'strategy': None})\n",
      "({'name': 'Brigitte', 'score': 0, 'strategy': None}, {'name': 'Alex', 'score': 0, 'strategy': None})\n",
      "({'name': 'Brigitte', 'score': 0, 'strategy': None}, {'name': 'Chris', 'score': 0, 'strategy': None})\n",
      "({'name': 'Brigitte', 'score': 0, 'strategy': None}, {'name': 'Tom', 'score': 0, 'strategy': None})\n",
      "({'name': 'Alex', 'score': 0, 'strategy': None}, {'name': 'Chris', 'score': 0, 'strategy': None})\n",
      "({'name': 'Alex', 'score': 0, 'strategy': None}, {'name': 'Tom', 'score': 0, 'strategy': None})\n",
      "({'name': 'Chris', 'score': 0, 'strategy': None}, {'name': 'Tom', 'score': 0, 'strategy': None})\n"
     ]
    }
   ],
   "source": [
    "import itertools \n",
    "for pair in itertools.combinations(society,2):\n",
    "    print(pair)"
   ]
  },
  {
   "cell_type": "code",
   "execution_count": 37,
   "metadata": {},
   "outputs": [
    {
     "name": "stdout",
     "output_type": "stream",
     "text": [
      "{'name': 'Jim', 'score': 0, 'strategy': None} {'name': 'Jane', 'score': 0, 'strategy': None}\n",
      "{'name': 'Jim', 'score': 0, 'strategy': None} {'name': 'Peter', 'score': 0, 'strategy': None}\n",
      "{'name': 'Jim', 'score': 0, 'strategy': None} {'name': 'Zoe', 'score': 0, 'strategy': None}\n",
      "{'name': 'Jim', 'score': 0, 'strategy': None} {'name': 'Paul', 'score': 0, 'strategy': None}\n",
      "{'name': 'Jim', 'score': 0, 'strategy': None} {'name': 'Brigitte', 'score': 0, 'strategy': None}\n",
      "{'name': 'Jim', 'score': 0, 'strategy': None} {'name': 'Alex', 'score': 0, 'strategy': None}\n",
      "{'name': 'Jim', 'score': 0, 'strategy': None} {'name': 'Chris', 'score': 0, 'strategy': None}\n",
      "{'name': 'Jim', 'score': 0, 'strategy': None} {'name': 'Tom', 'score': 0, 'strategy': None}\n",
      "{'name': 'Jane', 'score': 0, 'strategy': None} {'name': 'Peter', 'score': 0, 'strategy': None}\n",
      "{'name': 'Jane', 'score': 0, 'strategy': None} {'name': 'Zoe', 'score': 0, 'strategy': None}\n",
      "{'name': 'Jane', 'score': 0, 'strategy': None} {'name': 'Paul', 'score': 0, 'strategy': None}\n",
      "{'name': 'Jane', 'score': 0, 'strategy': None} {'name': 'Brigitte', 'score': 0, 'strategy': None}\n",
      "{'name': 'Jane', 'score': 0, 'strategy': None} {'name': 'Alex', 'score': 0, 'strategy': None}\n",
      "{'name': 'Jane', 'score': 0, 'strategy': None} {'name': 'Chris', 'score': 0, 'strategy': None}\n",
      "{'name': 'Jane', 'score': 0, 'strategy': None} {'name': 'Tom', 'score': 0, 'strategy': None}\n",
      "{'name': 'Peter', 'score': 0, 'strategy': None} {'name': 'Zoe', 'score': 0, 'strategy': None}\n",
      "{'name': 'Peter', 'score': 0, 'strategy': None} {'name': 'Paul', 'score': 0, 'strategy': None}\n",
      "{'name': 'Peter', 'score': 0, 'strategy': None} {'name': 'Brigitte', 'score': 0, 'strategy': None}\n",
      "{'name': 'Peter', 'score': 0, 'strategy': None} {'name': 'Alex', 'score': 0, 'strategy': None}\n",
      "{'name': 'Peter', 'score': 0, 'strategy': None} {'name': 'Chris', 'score': 0, 'strategy': None}\n",
      "{'name': 'Peter', 'score': 0, 'strategy': None} {'name': 'Tom', 'score': 0, 'strategy': None}\n",
      "{'name': 'Zoe', 'score': 0, 'strategy': None} {'name': 'Paul', 'score': 0, 'strategy': None}\n",
      "{'name': 'Zoe', 'score': 0, 'strategy': None} {'name': 'Brigitte', 'score': 0, 'strategy': None}\n",
      "{'name': 'Zoe', 'score': 0, 'strategy': None} {'name': 'Alex', 'score': 0, 'strategy': None}\n",
      "{'name': 'Zoe', 'score': 0, 'strategy': None} {'name': 'Chris', 'score': 0, 'strategy': None}\n",
      "{'name': 'Zoe', 'score': 0, 'strategy': None} {'name': 'Tom', 'score': 0, 'strategy': None}\n",
      "{'name': 'Paul', 'score': 0, 'strategy': None} {'name': 'Brigitte', 'score': 0, 'strategy': None}\n",
      "{'name': 'Paul', 'score': 0, 'strategy': None} {'name': 'Alex', 'score': 0, 'strategy': None}\n",
      "{'name': 'Paul', 'score': 0, 'strategy': None} {'name': 'Chris', 'score': 0, 'strategy': None}\n",
      "{'name': 'Paul', 'score': 0, 'strategy': None} {'name': 'Tom', 'score': 0, 'strategy': None}\n",
      "{'name': 'Brigitte', 'score': 0, 'strategy': None} {'name': 'Alex', 'score': 0, 'strategy': None}\n",
      "{'name': 'Brigitte', 'score': 0, 'strategy': None} {'name': 'Chris', 'score': 0, 'strategy': None}\n",
      "{'name': 'Brigitte', 'score': 0, 'strategy': None} {'name': 'Tom', 'score': 0, 'strategy': None}\n",
      "{'name': 'Alex', 'score': 0, 'strategy': None} {'name': 'Chris', 'score': 0, 'strategy': None}\n",
      "{'name': 'Alex', 'score': 0, 'strategy': None} {'name': 'Tom', 'score': 0, 'strategy': None}\n",
      "{'name': 'Chris', 'score': 0, 'strategy': None} {'name': 'Tom', 'score': 0, 'strategy': None}\n"
     ]
    }
   ],
   "source": [
    "import itertools \n",
    "for player1,player2 in itertools.combinations(society,2):\n",
    "    print(player1,player2)"
   ]
  },
  {
   "cell_type": "code",
   "execution_count": 44,
   "metadata": {},
   "outputs": [
    {
     "name": "stdout",
     "output_type": "stream",
     "text": [
      "{'name': 'Jim', 'score': 1, 'strategy': 'Lizard'} {'name': 'Jane', 'score': 0, 'strategy': 'Spock'}\n",
      "{'name': 'Jim', 'score': 1, 'strategy': 'Scissors'} {'name': 'Peter', 'score': 0, 'strategy': 'Scissors'}\n",
      "{'name': 'Jim', 'score': 2, 'strategy': 'Rock'} {'name': 'Zoe', 'score': 0, 'strategy': 'Scissors'}\n",
      "{'name': 'Jim', 'score': 2, 'strategy': 'Rock'} {'name': 'Paul', 'score': 1, 'strategy': 'Paper'}\n",
      "{'name': 'Jim', 'score': 2, 'strategy': 'Spock'} {'name': 'Brigitte', 'score': 1, 'strategy': 'Lizard'}\n",
      "{'name': 'Jim', 'score': 2, 'strategy': 'Paper'} {'name': 'Alex', 'score': 1, 'strategy': 'Lizard'}\n",
      "{'name': 'Jim', 'score': 2, 'strategy': 'Lizard'} {'name': 'Chris', 'score': 0, 'strategy': 'Lizard'}\n",
      "{'name': 'Jim', 'score': 3, 'strategy': 'Spock'} {'name': 'Tom', 'score': 0, 'strategy': 'Scissors'}\n",
      "{'name': 'Jane', 'score': 1, 'strategy': 'Scissors'} {'name': 'Peter', 'score': 0, 'strategy': 'Paper'}\n",
      "{'name': 'Jane', 'score': 2, 'strategy': 'Spock'} {'name': 'Zoe', 'score': 0, 'strategy': 'Scissors'}\n",
      "{'name': 'Jane', 'score': 2, 'strategy': 'Spock'} {'name': 'Paul', 'score': 2, 'strategy': 'Lizard'}\n",
      "{'name': 'Jane', 'score': 3, 'strategy': 'Rock'} {'name': 'Brigitte', 'score': 1, 'strategy': 'Lizard'}\n",
      "{'name': 'Jane', 'score': 4, 'strategy': 'Paper'} {'name': 'Alex', 'score': 1, 'strategy': 'Spock'}\n",
      "{'name': 'Jane', 'score': 4, 'strategy': 'Paper'} {'name': 'Chris', 'score': 1, 'strategy': 'Lizard'}\n",
      "{'name': 'Jane', 'score': 5, 'strategy': 'Spock'} {'name': 'Tom', 'score': 0, 'strategy': 'Rock'}\n",
      "{'name': 'Peter', 'score': 1, 'strategy': 'Rock'} {'name': 'Zoe', 'score': 0, 'strategy': 'Lizard'}\n",
      "{'name': 'Peter', 'score': 2, 'strategy': 'Scissors'} {'name': 'Paul', 'score': 2, 'strategy': 'Lizard'}\n",
      "{'name': 'Peter', 'score': 3, 'strategy': 'Paper'} {'name': 'Brigitte', 'score': 1, 'strategy': 'Spock'}\n",
      "{'name': 'Peter', 'score': 4, 'strategy': 'Rock'} {'name': 'Alex', 'score': 1, 'strategy': 'Lizard'}\n",
      "{'name': 'Peter', 'score': 5, 'strategy': 'Paper'} {'name': 'Chris', 'score': 1, 'strategy': 'Spock'}\n",
      "{'name': 'Peter', 'score': 6, 'strategy': 'Spock'} {'name': 'Tom', 'score': 0, 'strategy': 'Rock'}\n",
      "{'name': 'Zoe', 'score': 0, 'strategy': 'Spock'} {'name': 'Paul', 'score': 2, 'strategy': 'Spock'}\n",
      "{'name': 'Zoe', 'score': 0, 'strategy': 'Paper'} {'name': 'Brigitte', 'score': 2, 'strategy': 'Scissors'}\n",
      "{'name': 'Zoe', 'score': 1, 'strategy': 'Scissors'} {'name': 'Alex', 'score': 1, 'strategy': 'Lizard'}\n",
      "{'name': 'Zoe', 'score': 2, 'strategy': 'Spock'} {'name': 'Chris', 'score': 1, 'strategy': 'Scissors'}\n",
      "{'name': 'Zoe', 'score': 2, 'strategy': 'Spock'} {'name': 'Tom', 'score': 1, 'strategy': 'Lizard'}\n",
      "{'name': 'Paul', 'score': 3, 'strategy': 'Spock'} {'name': 'Brigitte', 'score': 2, 'strategy': 'Scissors'}\n",
      "{'name': 'Paul', 'score': 3, 'strategy': 'Lizard'} {'name': 'Alex', 'score': 2, 'strategy': 'Scissors'}\n",
      "{'name': 'Paul', 'score': 4, 'strategy': 'Paper'} {'name': 'Chris', 'score': 1, 'strategy': 'Rock'}\n",
      "{'name': 'Paul', 'score': 5, 'strategy': 'Spock'} {'name': 'Tom', 'score': 1, 'strategy': 'Rock'}\n",
      "{'name': 'Brigitte', 'score': 2, 'strategy': 'Spock'} {'name': 'Alex', 'score': 2, 'strategy': 'Spock'}\n",
      "{'name': 'Brigitte', 'score': 3, 'strategy': 'Lizard'} {'name': 'Chris', 'score': 1, 'strategy': 'Paper'}\n",
      "{'name': 'Brigitte', 'score': 4, 'strategy': 'Scissors'} {'name': 'Tom', 'score': 1, 'strategy': 'Lizard'}\n",
      "{'name': 'Alex', 'score': 2, 'strategy': 'Rock'} {'name': 'Chris', 'score': 1, 'strategy': 'Rock'}\n",
      "{'name': 'Alex', 'score': 2, 'strategy': 'Lizard'} {'name': 'Tom', 'score': 1, 'strategy': 'Lizard'}\n",
      "{'name': 'Chris', 'score': 1, 'strategy': 'Spock'} {'name': 'Tom', 'score': 2, 'strategy': 'Paper'}\n"
     ]
    }
   ],
   "source": [
    "# chose each pair of players:\n",
    "\n",
    "# list of players\n",
    "society=[{'name':n,'score':0,'strategy':None} for n in names]\n",
    "\n",
    "\n",
    "for player1,player2 in itertools.combinations(society,2):\n",
    "    \n",
    "    player1['strategy']=choice(strategies)\n",
    "    player2['strategy']=choice(strategies)\n",
    "    result=payoff[player1['strategy'],player2['strategy']]\n",
    "    player1['score']+=result[0]\n",
    "    player2['score']+=result[1]\n",
    "    print(player1,player2)"
   ]
  },
  {
   "cell_type": "code",
   "execution_count": 45,
   "metadata": {},
   "outputs": [
    {
     "data": {
      "text/plain": [
       "[{'name': 'Jim', 'score': 3, 'strategy': 'Spock'},\n",
       " {'name': 'Jane', 'score': 5, 'strategy': 'Spock'},\n",
       " {'name': 'Peter', 'score': 6, 'strategy': 'Spock'},\n",
       " {'name': 'Zoe', 'score': 2, 'strategy': 'Spock'},\n",
       " {'name': 'Paul', 'score': 5, 'strategy': 'Spock'},\n",
       " {'name': 'Brigitte', 'score': 4, 'strategy': 'Scissors'},\n",
       " {'name': 'Alex', 'score': 2, 'strategy': 'Lizard'},\n",
       " {'name': 'Chris', 'score': 1, 'strategy': 'Spock'},\n",
       " {'name': 'Tom', 'score': 2, 'strategy': 'Paper'}]"
      ]
     },
     "execution_count": 45,
     "metadata": {},
     "output_type": "execute_result"
    }
   ],
   "source": [
    "society"
   ]
  },
  {
   "cell_type": "code",
   "execution_count": 46,
   "metadata": {},
   "outputs": [
    {
     "data": {
      "text/html": [
       "<div>\n",
       "<style scoped>\n",
       "    .dataframe tbody tr th:only-of-type {\n",
       "        vertical-align: middle;\n",
       "    }\n",
       "\n",
       "    .dataframe tbody tr th {\n",
       "        vertical-align: top;\n",
       "    }\n",
       "\n",
       "    .dataframe thead th {\n",
       "        text-align: right;\n",
       "    }\n",
       "</style>\n",
       "<table border=\"1\" class=\"dataframe\">\n",
       "  <thead>\n",
       "    <tr style=\"text-align: right;\">\n",
       "      <th></th>\n",
       "      <th>name</th>\n",
       "      <th>score</th>\n",
       "      <th>strategy</th>\n",
       "    </tr>\n",
       "  </thead>\n",
       "  <tbody>\n",
       "    <tr>\n",
       "      <th>0</th>\n",
       "      <td>Jim</td>\n",
       "      <td>3</td>\n",
       "      <td>Spock</td>\n",
       "    </tr>\n",
       "    <tr>\n",
       "      <th>1</th>\n",
       "      <td>Jane</td>\n",
       "      <td>5</td>\n",
       "      <td>Spock</td>\n",
       "    </tr>\n",
       "    <tr>\n",
       "      <th>2</th>\n",
       "      <td>Peter</td>\n",
       "      <td>6</td>\n",
       "      <td>Spock</td>\n",
       "    </tr>\n",
       "    <tr>\n",
       "      <th>3</th>\n",
       "      <td>Zoe</td>\n",
       "      <td>2</td>\n",
       "      <td>Spock</td>\n",
       "    </tr>\n",
       "    <tr>\n",
       "      <th>4</th>\n",
       "      <td>Paul</td>\n",
       "      <td>5</td>\n",
       "      <td>Spock</td>\n",
       "    </tr>\n",
       "    <tr>\n",
       "      <th>5</th>\n",
       "      <td>Brigitte</td>\n",
       "      <td>4</td>\n",
       "      <td>Scissors</td>\n",
       "    </tr>\n",
       "    <tr>\n",
       "      <th>6</th>\n",
       "      <td>Alex</td>\n",
       "      <td>2</td>\n",
       "      <td>Lizard</td>\n",
       "    </tr>\n",
       "    <tr>\n",
       "      <th>7</th>\n",
       "      <td>Chris</td>\n",
       "      <td>1</td>\n",
       "      <td>Spock</td>\n",
       "    </tr>\n",
       "    <tr>\n",
       "      <th>8</th>\n",
       "      <td>Tom</td>\n",
       "      <td>2</td>\n",
       "      <td>Paper</td>\n",
       "    </tr>\n",
       "  </tbody>\n",
       "</table>\n",
       "</div>"
      ],
      "text/plain": [
       "       name  score  strategy\n",
       "0       Jim      3     Spock\n",
       "1      Jane      5     Spock\n",
       "2     Peter      6     Spock\n",
       "3       Zoe      2     Spock\n",
       "4      Paul      5     Spock\n",
       "5  Brigitte      4  Scissors\n",
       "6      Alex      2    Lizard\n",
       "7     Chris      1     Spock\n",
       "8       Tom      2     Paper"
      ]
     },
     "execution_count": 46,
     "metadata": {},
     "output_type": "execute_result"
    }
   ],
   "source": [
    "socialResults=pd.DataFrame(society)\n",
    "socialResults"
   ]
  },
  {
   "cell_type": "code",
   "execution_count": 47,
   "metadata": {},
   "outputs": [
    {
     "data": {
      "text/html": [
       "<div>\n",
       "<style scoped>\n",
       "    .dataframe tbody tr th:only-of-type {\n",
       "        vertical-align: middle;\n",
       "    }\n",
       "\n",
       "    .dataframe tbody tr th {\n",
       "        vertical-align: top;\n",
       "    }\n",
       "\n",
       "    .dataframe thead th {\n",
       "        text-align: right;\n",
       "    }\n",
       "</style>\n",
       "<table border=\"1\" class=\"dataframe\">\n",
       "  <thead>\n",
       "    <tr style=\"text-align: right;\">\n",
       "      <th></th>\n",
       "      <th>name</th>\n",
       "      <th>score</th>\n",
       "      <th>strategy</th>\n",
       "    </tr>\n",
       "  </thead>\n",
       "  <tbody>\n",
       "    <tr>\n",
       "      <th>2</th>\n",
       "      <td>Peter</td>\n",
       "      <td>6</td>\n",
       "      <td>Spock</td>\n",
       "    </tr>\n",
       "  </tbody>\n",
       "</table>\n",
       "</div>"
      ],
      "text/plain": [
       "    name  score strategy\n",
       "2  Peter      6    Spock"
      ]
     },
     "execution_count": 47,
     "metadata": {},
     "output_type": "execute_result"
    }
   ],
   "source": [
    "filter1=socialResults.score==socialResults.score.max()\n",
    "winner=socialResults[filter1]\n",
    "\n",
    "#social outcome\n",
    "winner"
   ]
  },
  {
   "cell_type": "code",
   "execution_count": 48,
   "metadata": {},
   "outputs": [
    {
     "data": {
      "text/html": [
       "<div>\n",
       "<style scoped>\n",
       "    .dataframe tbody tr th:only-of-type {\n",
       "        vertical-align: middle;\n",
       "    }\n",
       "\n",
       "    .dataframe tbody tr th {\n",
       "        vertical-align: top;\n",
       "    }\n",
       "\n",
       "    .dataframe thead th {\n",
       "        text-align: right;\n",
       "    }\n",
       "</style>\n",
       "<table border=\"1\" class=\"dataframe\">\n",
       "  <thead>\n",
       "    <tr style=\"text-align: right;\">\n",
       "      <th></th>\n",
       "      <th>name</th>\n",
       "      <th>score</th>\n",
       "      <th>strategy</th>\n",
       "    </tr>\n",
       "  </thead>\n",
       "  <tbody>\n",
       "    <tr>\n",
       "      <th>7</th>\n",
       "      <td>Chris</td>\n",
       "      <td>1</td>\n",
       "      <td>Spock</td>\n",
       "    </tr>\n",
       "  </tbody>\n",
       "</table>\n",
       "</div>"
      ],
      "text/plain": [
       "    name  score strategy\n",
       "7  Chris      1    Spock"
      ]
     },
     "execution_count": 48,
     "metadata": {},
     "output_type": "execute_result"
    }
   ],
   "source": [
    "filter2=socialResults.score==socialResults.score.min()\n",
    "loser=socialResults[filter2]\n",
    "\n",
    "#social outcome\n",
    "loser"
   ]
  },
  {
   "cell_type": "code",
   "execution_count": null,
   "metadata": {},
   "outputs": [],
   "source": []
  }
 ],
 "metadata": {
  "kernelspec": {
   "display_name": "Python 3",
   "language": "python",
   "name": "python3"
  },
  "language_info": {
   "codemirror_mode": {
    "name": "ipython",
    "version": 3
   },
   "file_extension": ".py",
   "mimetype": "text/x-python",
   "name": "python",
   "nbconvert_exporter": "python",
   "pygments_lexer": "ipython3",
   "version": "3.8.5"
  }
 },
 "nbformat": 4,
 "nbformat_minor": 4
}
